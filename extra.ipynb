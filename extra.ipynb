{
 "cells": [
  {
   "cell_type": "markdown",
   "metadata": {},
   "source": [
    "<!--NAVIGATION-->\n",
    "\n",
    "\n",
    "<a href=\"https://colab.research.google.com/github/jttoivon/data-analysis-with-python-spring-2019/blob/master/extra.ipynb\"><img align=\"left\" src=\"https://colab.research.google.com/assets/colab-badge.svg\" alt=\"Open in Colab\" title=\"Open and Execute in Google Colaboratory\"></a>\n",
    "\n"
   ]
  },
  {
   "cell_type": "markdown",
   "metadata": {},
   "source": [
    "## Extra stuff"
   ]
  },
  {
   "cell_type": "code",
   "execution_count": null,
   "metadata": {},
   "outputs": [],
   "source": [
    "%matplotlib inline\n",
    "\n",
    "import numpy as np\n",
    "import matplotlib.pyplot as plt\n",
    "from math import cos, sin, pi\n",
    "\n",
    "def rot(a):\n",
    "    return np.array([[cos(a), -sin(a)], [sin(a),cos(a)]])\n",
    "\n",
    "def get_cov(a, b, angle):\n",
    "    T=np.matmul(rot(angle), np.array([[a,0],[0,b]]))\n",
    "    return np.matmul(T, T.T)  \n",
    "\n",
    "#Z=np.random.rand(100,100)\n",
    "mean1 = [0,0]\n",
    "cov1 = get_cov(0.6, 3, angle=pi/4)\n",
    "print(cov1)\n",
    "mean2 = [10,10]\n",
    "cov2 = get_cov(0.6, 3, angle=3*pi/4)\n",
    "mean3 = [0,10]\n",
    "#cov3 = [[1,0], [0,0.2]]\n",
    "cov3 = get_cov(0.6, 3, angle=0)\n",
    "print(cov3)\n",
    "x1, y1 = np.random.multivariate_normal(mean1, cov1, 100000).T\n",
    "x2, y2 = np.random.multivariate_normal(mean2, cov2, 100000).T\n",
    "x3, y3 = np.random.multivariate_normal(mean3, cov3, 100000).T\n",
    "x=np.hstack([x1,x2, x3])\n",
    "y=np.hstack([y1,y2, y3])\n",
    "#plt.imshow(Z)\n",
    "plt.hist2d(x, y, bins=100, cmap='Blues', range=[[-4,14],[-4,15]]);"
   ]
  },
  {
   "cell_type": "code",
   "execution_count": null,
   "metadata": {},
   "outputs": [],
   "source": [
    "from sklearn.datasets import make_blobs\n",
    "X,y = make_blobs(100, 3, centers=4, random_state=2, cluster_std=1.5)\n",
    "X -= np.min(X)\n",
    "#plt.scatter(X[:, 0], X[:, 1], c=y, s=50, cmap='rainbow');"
   ]
  },
  {
   "cell_type": "code",
   "execution_count": null,
   "metadata": {},
   "outputs": [],
   "source": [
    "# Print fitted parameters of a model\n",
    "def print_parameters(model):\n",
    "    for key in dir(model):\n",
    "        if key[0] != '_' and key[-1] == '_':\n",
    "            print(key, getattr(model, key))"
   ]
  },
  {
   "cell_type": "code",
   "execution_count": null,
   "metadata": {},
   "outputs": [],
   "source": [
    "from sklearn.naive_bayes import GaussianNB\n",
    "from sklearn.naive_bayes import MultinomialNB\n",
    "model = GaussianNB()\n",
    "#model = MultinomialNB()\n",
    "model.fit(X, y);\n",
    "print_parameters(model)"
   ]
  },
  {
   "cell_type": "code",
   "execution_count": null,
   "metadata": {},
   "outputs": [],
   "source": [
    "rng = np.random.RandomState(0)\n",
    "Xnew = [-6, -14] + [14, 18] * rng.rand(2000,2)\n",
    "ynew = model.predict(Xnew)"
   ]
  },
  {
   "cell_type": "code",
   "execution_count": null,
   "metadata": {},
   "outputs": [],
   "source": [
    "plt.scatter(X[:, 0], X[:, 1], c=y, s=50, cmap='RdBu')\n",
    "lim = plt.axis()\n",
    "plt.scatter(Xnew[:, 0], Xnew[:, 1], c=ynew, s=20, cmap='RdBu', alpha=0.1)\n",
    "plt.axis(lim)"
   ]
  },
  {
   "cell_type": "markdown",
   "metadata": {},
   "source": [
    "<!--NAVIGATION-->\n",
    "\n",
    "\n",
    "<a href=\"https://colab.research.google.com/github/jttoivon/data-analysis-with-python-spring-2019/blob/master/extra.ipynb\"><img align=\"left\" src=\"https://colab.research.google.com/assets/colab-badge.svg\" alt=\"Open in Colab\" title=\"Open and Execute in Google Colaboratory\"></a>\n"
   ]
  }
 ],
 "metadata": {
  "kernelspec": {
   "display_name": "Python 3",
   "language": "python",
   "name": "python3"
  },
  "language_info": {
   "codemirror_mode": {
    "name": "ipython",
    "version": 3
   },
   "file_extension": ".py",
   "mimetype": "text/x-python",
   "name": "python",
   "nbconvert_exporter": "python",
   "pygments_lexer": "ipython3",
   "version": "3.6.5"
  }
 },
 "nbformat": 4,
 "nbformat_minor": 2
}
